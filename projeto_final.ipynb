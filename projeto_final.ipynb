{
 "cells": [
  {
   "cell_type": "markdown",
   "id": "a89fb9ee",
   "metadata": {},
   "source": [
    "# Trabalho Prático\n",
    "\n",
    "Cálculo Numérico (SME0104)\n",
    "Professora Cynthia Lage Ferreira\n",
    "\n",
    "Alunos:\n",
    "Clara Ernesto de Carvalho - N USP: 14559479\n",
    "Renan Parpinelli Scarpin - N USP: 14712188"
   ]
  },
  {
   "cell_type": "markdown",
   "id": "740c4e9c",
   "metadata": {},
   "source": [
    "## 1 - Sistemas Lineares not Done"
   ]
  },
  {
   "cell_type": "code",
   "execution_count": null,
   "id": "64c41b8e",
   "metadata": {},
   "outputs": [
    {
     "name": "stdout",
     "output_type": "stream",
     "text": [
      "8.912205696105957\n",
      "0.020061731338500977\n",
      "7.576474603497137e-13\n",
      "7.576474603497137e-13\n"
     ]
    }
   ],
   "source": [
    "import numpy as np\n",
    "import time\n",
    "\n",
    "#Func1 é uma função de decomposição L.U. clássica que elimina todas as entradas abaixo do pivô\n",
    "#A Complexidade é O((n^3)/3)\n",
    "def func1(A):\n",
    "    n = A.shape[0] #Extrai as dimensões de A\n",
    "    U = A.copy() #Copia a A para U\n",
    "    L = np.eye(n) #Define a L como uma matriz identidade das dimensões de A\n",
    "    for j in range (n - 1): #Percorre todas as colunas de A\n",
    "        for i in range (j + 1,n): #Percorre todas as linhas de A\n",
    "            L[i,j] = U[i,j] / U[j,j] #Constroi o elemento L[i,j] a partir de U\n",
    "            U[i,j:n] = U[i,j:n] - L [i,j] * U[j,j:n] #Eliminação das linhas abaixo do Pivô\n",
    "    return (L,U) #Retorna as matrizes L e U da decomposição\n",
    "\n",
    "def func2 (A,p):\n",
    "    n = A.shape[0]\n",
    "    U = A.copy()\n",
    "    L = np.eye(n)\n",
    "    for j in range (n - 1):\n",
    "        v = min (n,j+p+1)\n",
    "        for i in range (j+1,v):\n",
    "            L[i,j] = U[i,j] / U[j,j]\n",
    "            U[i,j:v] = U[i,j:v] - L [i,j] * U[j,j:v]\n",
    "    return (L,U)\n",
    "\n",
    "\n",
    "#Exemplo\n",
    "n = 2000\n",
    "p = 2\n",
    "A = np.zeros((n,n))\n",
    "for i in range (n):\n",
    "    for j in range (max(0,i-p),min(n,i+p+1)):\n",
    "        A[i,j] = np.random.normal()\n",
    "\n",
    "starttime = time.time()\n",
    "(L,U) = func1(A)\n",
    "endtime=time.time()\n",
    "print(endtime - starttime)\n",
    "starttime=time.time()\n",
    "(L,U)=func2(A,p)\n",
    "endtime=time.time()\n",
    "print(endtime - starttime)\n",
    "print(np.linalg.norm(L@U - A))\n",
    "print(np.linalg.norm(L@U - A))"
   ]
  },
  {
   "cell_type": "code",
   "execution_count": null,
   "id": "f66dca2a",
   "metadata": {},
   "outputs": [],
   "source": []
  }
 ],
 "metadata": {
  "kernelspec": {
   "display_name": "Python 3",
   "language": "python",
   "name": "python3"
  },
  "language_info": {
   "codemirror_mode": {
    "name": "ipython",
    "version": 3
   },
   "file_extension": ".py",
   "mimetype": "text/x-python",
   "name": "python",
   "nbconvert_exporter": "python",
   "pygments_lexer": "ipython3",
   "version": "3.12.10"
  }
 },
 "nbformat": 4,
 "nbformat_minor": 5
}
